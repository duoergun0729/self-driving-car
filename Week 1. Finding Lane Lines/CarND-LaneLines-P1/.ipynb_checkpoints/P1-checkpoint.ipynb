{
 "cells": [
  {
   "cell_type": "markdown",
   "metadata": {},
   "source": [
    "# **Finding Lane Lines on the Road** \n",
    "***\n",
    "In this project, you will use the tools you learned about in the lesson to identify lane lines on the road.  You can develop your pipeline on a series of individual images, and later apply the result to a video stream (really just a series of images). Check out the video clip \"raw-lines-example.mp4\" (also contained in this repository) to see what the output should look like after using the helper functions below. \n",
    "\n",
    "Once you have a result that looks roughly like \"raw-lines-example.mp4\", you'll need to get creative and try to average and/or extrapolate the line segments you've detected to map out the full extent of the lane lines.  You can see an example of the result you're going for in the video \"P1_example.mp4\".  Ultimately, you would like to draw just one line for the left side of the lane, and one for the right.\n",
    "\n",
    "---\n",
    "Let's have a look at our first image called 'test_images/solidWhiteRight.jpg'.  Run the 2 cells below (hit Shift-Enter or the \"play\" button above) to display the image.\n",
    "\n",
    "**Note** If, at any point, you encounter frozen display windows or other confounding issues, you can always start again with a clean slate by going to the \"Kernel\" menu above and selecting \"Restart & Clear Output\".\n",
    "\n",
    "---"
   ]
  },
  {
   "cell_type": "markdown",
   "metadata": {},
   "source": [
    "**The tools you have are color selection, region of interest selection, grayscaling, Gaussian smoothing, Canny Edge Detection and Hough Tranform line detection.  You  are also free to explore and try other techniques that were not presented in the lesson.  Your goal is piece together a pipeline to detect the line segments in the image, then average/extrapolate them and draw them onto the image for display (as below).  Once you have a working pipeline, try it out on the video stream below.**\n",
    "\n",
    "---\n",
    "\n",
    "<figure>\n",
    " <img src=\"line-segments-example.jpg\" width=\"380\" alt=\"Combined Image\" />\n",
    " <figcaption>\n",
    " <p></p> \n",
    " <p style=\"text-align: center;\"> Your output should look something like this (above) after detecting line segments using the helper functions below </p> \n",
    " </figcaption>\n",
    "</figure>\n",
    " <p></p> \n",
    "<figure>\n",
    " <img src=\"laneLines_thirdPass.jpg\" width=\"380\" alt=\"Combined Image\" />\n",
    " <figcaption>\n",
    " <p></p> \n",
    " <p style=\"text-align: center;\"> Your goal is to connect/average/extrapolate line segments to get output like this</p> \n",
    " </figcaption>\n",
    "</figure>"
   ]
  },
  {
   "cell_type": "code",
   "execution_count": null,
   "metadata": {
    "collapsed": false
   },
   "outputs": [],
   "source": [
    "#importing some useful packages\n",
    "import matplotlib.pyplot as plt\n",
    "import matplotlib.image as mpimg\n",
    "import numpy as np\n",
    "import cv2\n",
    "%matplotlib inline"
   ]
  },
  {
   "cell_type": "code",
   "execution_count": null,
   "metadata": {
    "collapsed": false
   },
   "outputs": [],
   "source": [
    "#reading in an image\n",
    "image = mpimg.imread('test_images/solidWhiteRight.jpg')\n",
    "#printing out some stats and plotting\n",
    "print('This image is:', type(image), 'with dimesions:', image.shape)\n",
    "plt.imshow(image)  #call as plt.imshow(gray, cmap='gray') to show a grayscaled image"
   ]
  },
  {
   "cell_type": "markdown",
   "metadata": {},
   "source": [
    "**Some OpenCV functions (beyond those introduced in the lesson) that might be useful for this project are:**\n",
    "\n",
    "`cv2.inRange()` for color selection  \n",
    "`cv2.fillPoly()` for regions selection  \n",
    "`cv2.line()` to draw lines on an image given endpoints  \n",
    "`cv2.addWeighted()` to coadd / overlay two images\n",
    "`cv2.cvtColor()` to grayscale or change color\n",
    "`cv2.imwrite()` to output images to file  \n",
    "`cv2.bitwise_and()` to apply a mask to an image\n",
    "\n",
    "**Check out the OpenCV documentation to learn about these and discover even more awesome functionality!**"
   ]
  },
  {
   "cell_type": "markdown",
   "metadata": {},
   "source": [
    "Below are some helper functions to help get you started. They should look familiar from the lesson!"
   ]
  },
  {
   "cell_type": "code",
   "execution_count": null,
   "metadata": {
    "collapsed": false
   },
   "outputs": [],
   "source": [
    "import math\n",
    "import numpy as np\n",
    "import cv2\n",
    "\n",
    "\n",
    "\"\"\"CONSTANTS\"\"\"\n",
    "\n",
    "\"\"\"Contrast\"\"\"\n",
    "bin_256 = 256\n",
    "hist_range_min = 0\n",
    "hist_range_max = 256\n",
    "masked_array_min = 0\n",
    "masked_array_max = 255\n",
    "\n",
    "\"\"\"range\"\"\"\n",
    "in_range_min = 250\n",
    "in_range_max = 255\n",
    "\n",
    "\"\"\"gaussian\"\"\"\n",
    "kernel_size = 1\n",
    "\n",
    "\"\"\"canny\"\"\"\n",
    "low_threshold = 50\n",
    "high_threshold = 150\n",
    "\n",
    "\n",
    "\"\"\"hough\"\"\"\n",
    "rho_multiplier =  .00000217 #distance resolution in pixels of the Hough grid\n",
    "theta = np.pi/180 # angular resolution in radians of the Hough grid\n",
    "threshold_multiplier = .000043403 #nimum number of votes (intersections in Hough grid cell)\n",
    "min_line_length_multiplier = .000027127 #minimum number of pixels making up a line\n",
    "max_line_gap_multiplier = .00000217 #maximum gap in pixels between connectable line segments\n",
    "\n",
    "\n",
    "\"\"\"average lines\"\"\"\n",
    "average_left = []\n",
    "average_right = []\n",
    "\n",
    "\"\"\"END CONSTANTS\"\"\"\n",
    "\n",
    "\n",
    "\n",
    "\n",
    "\"\"\"UTIL FUNCTIONS\"\"\"\n",
    "class MaskCoordinates():\n",
    "    nw_x=0\n",
    "    nw_y=0\n",
    "    nw_x2 = 0\n",
    "    nw_y2 = 0\n",
    "    ne_x=0\n",
    "    ne_y=0\n",
    "    ne_x2 = 0\n",
    "    ne_y2 = 0\n",
    "    sw_x=0\n",
    "    sw_y=0\n",
    "    sw_x2 = 0\n",
    "    sw_y2 = 0\n",
    "    se_x=0\n",
    "    se_y=0\n",
    "    se_x2 = 0\n",
    "    se_y2 = 0\n",
    "\n",
    "\n",
    "def set_mask_bounds(shape):\n",
    "    \"\"\"returns an object that hold the bounding coordinates of the image to be processed\n",
    "    TODO - make constants for these values\n",
    "    \"\"\"\n",
    "    mask_coordinates = MaskCoordinates()\n",
    "    mask_coordinates.sw_x = shape[1]*.01\n",
    "    mask_coordinates.sw_y = int(shape[0])\n",
    "    mask_coordinates.sw_x2 = shape[1] * .30\n",
    "    mask_coordinates.sw_y2 = int(shape[0])\n",
    "    mask_coordinates.nw_x = int(shape[1]*.35)\n",
    "    mask_coordinates.nw_y = int(shape[0]*.65)\n",
    "    mask_coordinates.nw_x2 = int(shape[1] * .50)\n",
    "    mask_coordinates.nw_y2 = int(shape[0] * .65)\n",
    "    mask_coordinates.ne_x = int(shape[1]*.65)\n",
    "    mask_coordinates.ne_y = int(shape[0]*.65)\n",
    "    mask_coordinates.ne_x2 = int(shape[1]*.55)\n",
    "    mask_coordinates.ne_y2 =  int(shape[0]*.65)\n",
    "    mask_coordinates.se_x = int(shape[1] + (shape[1]*.1) )\n",
    "    mask_coordinates.se_y = int(shape[0] )\n",
    "    mask_coordinates.se_x2 = int(shape[1] - (shape[1]*.5) )\n",
    "    mask_coordinates.se_y2 = int(shape[0])\n",
    "    return mask_coordinates\n",
    "\n",
    "def get_mask_bounds(mask_bounds):\n",
    "    \"\"\"This function returns the bounds of the mask (where to draw it)\"\"\"\n",
    "    return np.array([[(mask_bounds.sw_x, mask_bounds.sw_y),\n",
    "                          (mask_bounds.nw_x,mask_bounds.nw_y),\n",
    "                          (mask_bounds.nw_x2  , mask_bounds.nw_y2),\n",
    "                          (mask_bounds.sw_x2, mask_bounds.sw_y2),\n",
    "                          (mask_bounds.se_x2, mask_bounds.se_y2),\n",
    "                          (mask_bounds.ne_x2,mask_bounds.ne_y2),\n",
    "                          (mask_bounds.ne_x,mask_bounds.ne_y),\n",
    "                          (mask_bounds.se_x,mask_bounds.se_y)]], dtype=np.int32)\n",
    "\n",
    "\n",
    "def region_of_interest(image, vertices):\n",
    "    \"\"\"\n",
    "    Applies an image mask.\n",
    "    Only keeps the region of the image defined by the polygon\n",
    "    formed from `vertices`. The rest of the image is set to black.\n",
    "    \"\"\"\n",
    "    # defining a blank mask to start with\n",
    "    mask = np.zeros_like(image)\n",
    "\n",
    "    # defining a 3 channel or 1 channel color to fill the mask with depending on the input image\n",
    "    if len(image.shape) > 2:\n",
    "        channel_count = image.shape[2]  # i.e. 3 or 4 depending on your image\n",
    "        ignore_mask_color = (255,) * channel_count\n",
    "    else:\n",
    "        ignore_mask_color = 255\n",
    "\n",
    "    # filling pixels inside the polygon defined by \"vertices\" with the fill color\n",
    "    cv2.fillPoly(mask, vertices, ignore_mask_color)\n",
    "\n",
    "    # returning the image only where mask pixels are nonzero\n",
    "    masked_image = cv2.bitwise_and(image, mask)\n",
    "    return masked_image\n",
    "\n",
    "def grayscale(image):\n",
    "    \"\"\"Applies the Grayscale transform\n",
    "    This will return an image with only one color channel\n",
    "    but NOTE: to see the returned image as grayscale\n",
    "    you should call plt.imshow(gray, cmap='gray')\"\"\"\n",
    "    return cv2.cvtColor(image, cv2.COLOR_RGB2GRAY)\n",
    "\n",
    "def increase_contrast(image):\n",
    "    \"\"\"this function increases the contrast of the BW image\n",
    "    TODO learn more about what is happening here\n",
    "    \"\"\"\n",
    "    equ = cv2.equalizeHist(image)\n",
    "    hist, bins = np.histogram(equ.flatten(), bin_256, [hist_range_min, hist_range_max])\n",
    "    cdf = hist.cumsum()\n",
    "    cdf_m = np.ma.masked_equal(cdf, masked_array_min)\n",
    "    cdf_m = (cdf_m - cdf_m.min()) * masked_array_max / (cdf_m.max() - cdf_m.min())\n",
    "    cdf = np.ma.filled(cdf_m, masked_array_min).astype('uint8')\n",
    "    histogram = cdf[image]\n",
    "    return cv2.equalizeHist(histogram)\n",
    "\n",
    "class HoughParamters():\n",
    "    \"\"\"this is an object used to hold the calculated houh parameters\"\"\"\n",
    "    rho = 0\n",
    "    min_line_length = 0\n",
    "    max_line_gap = 0\n",
    "    threshold = 0\n",
    "    theta = 0\n",
    "\n",
    "def set_hough_paramters(image):\n",
    "    \"\"\"this function calculates the hough parameters with its image size\"\"\"\n",
    "    hough_params = HoughParamters()\n",
    "    hough_params.rho = (image.shape[0] * image.shape[1]) * rho_multiplier\n",
    "    hough_params.min_line_length = (image.shape[0] * image.shape[1]) *  min_line_length_multiplier\n",
    "    hough_params.max_line_gap = (image.shape[0] * image.shape[1]) * max_line_gap_multiplier\n",
    "    hough_params.threshold = int((image.shape[0] * image.shape[1]) * threshold_multiplier)\n",
    "    hough_params.theta = theta\n",
    "    return hough_params\n",
    "\n",
    "\n",
    "def canny(image, low_threshold, high_threshold):\n",
    "    \"\"\"Applies the Canny transform\"\"\"\n",
    "    return cv2.Canny(image, low_threshold, high_threshold)\n",
    "\n",
    "\n",
    "def gaussian_blur(image, kernel_size):\n",
    "    \"\"\"Applies a Gaussian Noise kernel\"\"\"\n",
    "    return cv2.GaussianBlur(image, (kernel_size, kernel_size), 0)\n",
    "\n",
    "\n",
    "\n",
    "class Line_object():\n",
    "    line=[]\n",
    "    slope=1\n",
    "    slope_is_positive = False\n",
    "    draw_line = False\n",
    "\n",
    "def set_up_line(line):\n",
    "    \"\"\"this function sets up a line object for processing\"\"\"\n",
    "    line_object = Line_object()\n",
    "    line_object.line = line\n",
    "    for x1, y1, x2, y2 in line_object.line:\n",
    "        line_object.slope =  (y2 - y1) / (x2 - x1)\n",
    "    if(line_object.slope>0):\n",
    "        line_object.slope_is_positive = True\n",
    "    return line_object\n",
    "\n",
    "\n",
    "\n",
    "def  vett_lines(line_object):\n",
    "    \"\"\"this function flags lines that are appropriate for lane markings\n",
    "    first it takes a a quick swag by culling gentle sloped lines,\n",
    "    then it only flags lines that are within a certain standard deviation\n",
    "    \"\"\"\n",
    "    if line_object.slope_is_positive == False and (-.8 <= line_object.slope <= -.55):\n",
    "        if(line_object.slope!=0):\n",
    "            average_left.append(line_object.slope)\n",
    "            left_slope_standard_deviation = np.std(average_left);\n",
    "            if(left_slope_standard_deviation + (line_object.slope * left_slope_standard_deviation) <=.03):\n",
    "                good_left_line = line_object.line\n",
    "                line_object.draw_line = True\n",
    "    if line_object.slope_is_positive == True and (.55 <= line_object.slope <= .8):\n",
    "        if (line_object.slope != 0):\n",
    "            average_right.append(line_object.slope)\n",
    "            right_slope_standard_deviation = np.std(average_right);\n",
    "            if ( right_slope_standard_deviation - (line_object.slope * right_slope_standard_deviation) <= .03):\n",
    "                good_right_line = line_object.line\n",
    "                line_object.draw_line = True\n",
    "        line_object.draw_line = True\n",
    "    return line_object\n",
    "\n",
    "\n",
    "def draw_lines(image, lines, color=[255, 0, 0], thickness=2):\n",
    "    \"\"\"\n",
    "    NOTE: this is the function you might want to use as a starting point once you want to\n",
    "    average/extrapolate the line segments you detect to map out the full\n",
    "    extent of the lane (going from the result shown in raw-lines-example.mp4\n",
    "    to that shown in P1_example.mp4).\n",
    "\n",
    "    Think about things like separating line segments by their\n",
    "    slope ((y2-y1)/(x2-x1)) to decide which segments are part of the left\n",
    "    line vs. the right line.  Then, you can average the position of each of\n",
    "    the lines and extrapolate to the top and bottom of the lane.\n",
    "\n",
    "    This function draws `lines` with `color` and `thickness`.\n",
    "    Lines are drawn on the image inplace (mutates the image).\n",
    "\n",
    "    If you want to make the lines semi-transparent, think about combining\n",
    "    this function with the weighted_img() function below\n",
    "    \"\"\"\n",
    "    for line in lines:\n",
    "        line_object = set_up_line(line)\n",
    "        vetted_line = vett_lines(line_object)\n",
    "        #\n",
    "        if (vetted_line.draw_line == True):\n",
    "            for x1, y1, x2, y2 in vetted_line.line:\n",
    "                # TODO move extension to a function\n",
    "                if vetted_line.slope_is_positive == False:\n",
    "                    # Extend back\n",
    "                    x1 = int((image.shape[0] - y2) / vetted_line.slope) + x2\n",
    "                    y1 = image.shape[0]\n",
    "                    cv2.line(image, (x1, y1), (x2, y2), color, thickness)\n",
    "                    # extend front\n",
    "                    x1_2 = x2\n",
    "                    y1_2 = y2\n",
    "                    y2_2 = int(image.shape[0] * .65)\n",
    "                    x2_2 = int((y2_2 - y1_2) / (vetted_line.slope)) + x1_2\n",
    "                    cv2.line(image, (x1_2, y1_2), (x2_2, y2_2), color, thickness)\n",
    "                if vetted_line.slope_is_positive == True:\n",
    "                    # extend Back\n",
    "                    y2 = image.shape[0]\n",
    "                    x2 = int((image.shape[0] - y1) / vetted_line.slope) + x1\n",
    "                    cv2.line(image, (x1, y1), (x2, y2), color, thickness)\n",
    "                    # extend front\n",
    "                    x1_2 = x2\n",
    "                    y1_2 = y2\n",
    "                    y2_2 = int(image.shape[0] * .65)\n",
    "                    x2_2 = int((y2_2 - y1_2) / (vetted_line.slope)) + x1_2\n",
    "                    cv2.line(image, (x1_2, y1_2), (x2_2, y2_2), color, thickness)\n",
    "\n",
    "\n",
    "def hough_lines(image, rho, theta, threshold, min_line_len, max_line_gap):\n",
    "    \"\"\"\n",
    "    `img` should be the output of a Canny transform.\n",
    "\n",
    "    Returns an image with hough lines drawn.\n",
    "    \"\"\"\n",
    "    lines = cv2.HoughLinesP(image, rho, theta, threshold, np.array([]), minLineLength=min_line_len,\n",
    "                            maxLineGap=max_line_gap)\n",
    "    line_img = np.zeros((image.shape[0], image.shape[1], 3), dtype=np.uint8)\n",
    "\n",
    "    if lines != None:\n",
    "        draw_lines(line_img, lines,[255, 0, 0],15)\n",
    "\n",
    "    return line_img\n",
    "\n",
    "\n",
    "# Python 3 has support for cool math symbols.\n",
    "\n",
    "def weighted_img(image, initial_img, α=0.8, β=1., λ=0.):\n",
    "    \"\"\"\n",
    "    `img` is the output of the hough_lines(), An image with lines drawn on it.\n",
    "    Should be a blank image (all black) with lines drawn on it.\n",
    "\n",
    "    `initial_img` should be the image before any processing.\n",
    "\n",
    "    The result image is computed as follows:\n",
    "\n",
    "    initial_img * α + img * β + λ\n",
    "    NOTE: initial_img and img must be the same shape!\n",
    "    \"\"\"\n",
    "    return cv2.addWeighted(initial_img, α, image, β, λ)\n",
    "\n",
    "\n",
    "\"\"\"END UTIL FUNCTIONS\"\"\"\n"
   ]
  },
  {
   "cell_type": "markdown",
   "metadata": {},
   "source": [
    "## Test on Images\n",
    "\n",
    "Now you should build your pipeline to work on the images in the directory \"test_images\"  \n",
    "**You should make sure your pipeline works well on these images before you try the videos.**"
   ]
  },
  {
   "cell_type": "code",
   "execution_count": null,
   "metadata": {
    "collapsed": false
   },
   "outputs": [],
   "source": [
    "import os\n",
    "os.listdir(\"test_images/\")"
   ]
  },
  {
   "cell_type": "markdown",
   "metadata": {},
   "source": [
    "run your solution on all test_images and make copies into the test_images directory)."
   ]
  },
  {
   "cell_type": "markdown",
   "metadata": {},
   "source": [
    "## Test on Videos\n",
    "\n",
    "You know what's cooler than drawing lanes over images? Drawing lanes over video!\n",
    "\n",
    "We can test our solution on two provided videos:\n",
    "\n",
    "`solidWhiteRight.mp4`\n",
    "\n",
    "`solidYellowLeft.mp4`"
   ]
  },
  {
   "cell_type": "code",
   "execution_count": 29,
   "metadata": {
    "collapsed": false
   },
   "outputs": [],
   "source": [
    "# Import everything needed to edit/save/watch video clips\n",
    "import imageio\n",
    "imageio.plugins.ffmpeg.download()\n",
    "from moviepy.editor import VideoFileClip\n",
    "from IPython.display import HTML"
   ]
  },
  {
   "cell_type": "code",
   "execution_count": 30,
   "metadata": {
    "collapsed": true
   },
   "outputs": [],
   "source": [
    "def process_image(image):\n",
    "    \"\"\"This function does the image processing\"\"\"\n",
    "    print(\"processing\")\n",
    "    mask_bounds = set_mask_bounds(image.shape)\n",
    "    mask_vertices = get_mask_bounds(mask_bounds)\n",
    "    masked_image = region_of_interest(image, mask_vertices)\n",
    "    gray_image = grayscale(masked_image)\n",
    "    contrast_image = increase_contrast(gray_image)\n",
    "    range = cv2.inRange(contrast_image, in_range_min, in_range_max)\n",
    "    edges = canny(range, low_threshold, high_threshold)\n",
    "    hough_parameters = set_hough_paramters(image)\n",
    "    lines = hough_lines(edges, hough_parameters.rho, hough_parameters.theta, hough_parameters.threshold,\n",
    "                              hough_parameters.min_line_length, hough_parameters.max_line_gap)\n",
    "    return weighted_img(lines, image)\n"
   ]
  },
  {
   "cell_type": "markdown",
   "metadata": {},
   "source": [
    "Let's try the one with the solid white lane on the right first ..."
   ]
  },
  {
   "cell_type": "code",
   "execution_count": 31,
   "metadata": {
    "collapsed": false
   },
   "outputs": [
    {
     "name": "stdout",
     "output_type": "stream",
     "text": [
      "processing\n",
      "[MoviePy] >>>> Building video white.mp4\n",
      "[MoviePy] Writing video white.mp4\n"
     ]
    },
    {
     "name": "stderr",
     "output_type": "stream",
     "text": [
      "  1%|          | 2/222 [00:00<00:12, 18.20it/s]"
     ]
    },
    {
     "name": "stdout",
     "output_type": "stream",
     "text": [
      "processing\n",
      "processing\n",
      "processing\n",
      "processing\n"
     ]
    },
    {
     "name": "stderr",
     "output_type": "stream",
     "text": [
      "  4%|▎         | 8/222 [00:00<00:10, 20.98it/s]"
     ]
    },
    {
     "name": "stdout",
     "output_type": "stream",
     "text": [
      "processing\n",
      "processing\n",
      "processing\n",
      "processing\n",
      "processing\n"
     ]
    },
    {
     "name": "stderr",
     "output_type": "stream",
     "text": [
      "  6%|▋         | 14/222 [00:00<00:09, 22.55it/s]"
     ]
    },
    {
     "name": "stdout",
     "output_type": "stream",
     "text": [
      "processing\n",
      "processing\n",
      "processing\n",
      "processing\n",
      "processing\n",
      "processing\n"
     ]
    },
    {
     "name": "stderr",
     "output_type": "stream",
     "text": [
      "  9%|▊         | 19/222 [00:00<00:08, 22.89it/s]"
     ]
    },
    {
     "name": "stdout",
     "output_type": "stream",
     "text": [
      "processing\n",
      "processing\n",
      "processing\n",
      "processing\n",
      "processing\n",
      "processing\n"
     ]
    },
    {
     "name": "stderr",
     "output_type": "stream",
     "text": [
      " 12%|█▏        | 26/222 [00:01<00:07, 25.86it/s]"
     ]
    },
    {
     "name": "stdout",
     "output_type": "stream",
     "text": [
      "processing\n",
      "processing\n",
      "processing\n",
      "processing\n",
      "processing\n",
      "processing\n"
     ]
    },
    {
     "name": "stderr",
     "output_type": "stream",
     "text": [
      " 14%|█▍        | 32/222 [00:01<00:07, 25.51it/s]"
     ]
    },
    {
     "name": "stdout",
     "output_type": "stream",
     "text": [
      "processing\n",
      "processing\n",
      "processing\n",
      "processing\n",
      "processing\n",
      "processing\n"
     ]
    },
    {
     "name": "stderr",
     "output_type": "stream",
     "text": [
      " 17%|█▋        | 38/222 [00:01<00:06, 26.88it/s]"
     ]
    },
    {
     "name": "stdout",
     "output_type": "stream",
     "text": [
      "processing\n",
      "processing\n",
      "processing\n",
      "processing\n",
      "processing\n",
      "processing\n"
     ]
    },
    {
     "name": "stderr",
     "output_type": "stream",
     "text": [
      " 20%|█▉        | 44/222 [00:01<00:06, 26.74it/s]"
     ]
    },
    {
     "name": "stdout",
     "output_type": "stream",
     "text": [
      "processing\n",
      "processing\n",
      "processing\n",
      "processing\n",
      "processing\n",
      "processing\n"
     ]
    },
    {
     "name": "stderr",
     "output_type": "stream",
     "text": [
      "\r",
      " 21%|██        | 47/222 [00:01<00:07, 24.17it/s]"
     ]
    },
    {
     "name": "stdout",
     "output_type": "stream",
     "text": [
      "processing\n",
      "processing\n",
      "processing\n",
      "processing\n"
     ]
    },
    {
     "name": "stderr",
     "output_type": "stream",
     "text": [
      "\r",
      " 23%|██▎       | 50/222 [00:02<00:09, 19.04it/s]"
     ]
    },
    {
     "name": "stdout",
     "output_type": "stream",
     "text": [
      "processing\n",
      "processing\n",
      "processing\n",
      "processing\n"
     ]
    },
    {
     "name": "stderr",
     "output_type": "stream",
     "text": [
      " 25%|██▍       | 55/222 [00:02<00:10, 15.29it/s]"
     ]
    },
    {
     "name": "stdout",
     "output_type": "stream",
     "text": [
      "processing\n",
      "processing\n",
      "processing\n",
      "processing\n"
     ]
    },
    {
     "name": "stderr",
     "output_type": "stream",
     "text": [
      " 27%|██▋       | 61/222 [00:02<00:09, 17.35it/s]"
     ]
    },
    {
     "name": "stdout",
     "output_type": "stream",
     "text": [
      "processing\n",
      "processing\n",
      "processing\n",
      "processing\n",
      "processing\n"
     ]
    },
    {
     "name": "stderr",
     "output_type": "stream",
     "text": [
      " 29%|██▉       | 65/222 [00:03<00:08, 17.85it/s]"
     ]
    },
    {
     "name": "stdout",
     "output_type": "stream",
     "text": [
      "processing\n",
      "processing\n",
      "processing\n",
      "processing\n"
     ]
    },
    {
     "name": "stderr",
     "output_type": "stream",
     "text": [
      "\r",
      " 31%|███       | 68/222 [00:03<00:08, 19.25it/s]"
     ]
    },
    {
     "name": "stdout",
     "output_type": "stream",
     "text": [
      "processing\n",
      "processing\n",
      "processing\n",
      "processing\n",
      "processing\n"
     ]
    },
    {
     "name": "stderr",
     "output_type": "stream",
     "text": [
      " 33%|███▎      | 73/222 [00:03<00:08, 16.62it/s]"
     ]
    },
    {
     "name": "stdout",
     "output_type": "stream",
     "text": [
      "processing\n",
      "processing\n",
      "processing\n",
      "processing\n"
     ]
    },
    {
     "name": "stderr",
     "output_type": "stream",
     "text": [
      " 35%|███▍      | 77/222 [00:03<00:09, 15.09it/s]"
     ]
    },
    {
     "name": "stdout",
     "output_type": "stream",
     "text": [
      "processing\n",
      "processing\n",
      "processing\n"
     ]
    },
    {
     "name": "stderr",
     "output_type": "stream",
     "text": [
      "\r",
      " 36%|███▌      | 79/222 [00:03<00:10, 14.21it/s]"
     ]
    },
    {
     "name": "stdout",
     "output_type": "stream",
     "text": [
      "processing\n",
      "processing\n",
      "processing\n"
     ]
    },
    {
     "name": "stderr",
     "output_type": "stream",
     "text": [
      " 37%|███▋      | 83/222 [00:04<00:10, 12.72it/s]"
     ]
    },
    {
     "name": "stdout",
     "output_type": "stream",
     "text": [
      "processing\n",
      "processing\n",
      "processing\n"
     ]
    },
    {
     "name": "stderr",
     "output_type": "stream",
     "text": [
      " 39%|███▉      | 87/222 [00:04<00:10, 13.30it/s]"
     ]
    },
    {
     "name": "stdout",
     "output_type": "stream",
     "text": [
      "processing\n",
      "processing\n",
      "processing\n",
      "processing\n"
     ]
    },
    {
     "name": "stderr",
     "output_type": "stream",
     "text": [
      " 41%|████      | 91/222 [00:04<00:08, 15.57it/s]"
     ]
    },
    {
     "name": "stdout",
     "output_type": "stream",
     "text": [
      "processing\n",
      "processing\n",
      "processing\n",
      "processing\n",
      "processing\n"
     ]
    },
    {
     "name": "stderr",
     "output_type": "stream",
     "text": [
      "\r",
      " 42%|████▏     | 94/222 [00:04<00:07, 17.64it/s]"
     ]
    },
    {
     "name": "stdout",
     "output_type": "stream",
     "text": [
      "processing\n",
      "processing\n",
      "processing\n",
      "processing\n"
     ]
    },
    {
     "name": "stderr",
     "output_type": "stream",
     "text": [
      " 45%|████▍     | 99/222 [00:05<00:07, 16.06it/s]"
     ]
    },
    {
     "name": "stdout",
     "output_type": "stream",
     "text": [
      "processing\n",
      "processing\n",
      "processing\n",
      "processing\n",
      "processing\n"
     ]
    },
    {
     "name": "stderr",
     "output_type": "stream",
     "text": [
      " 47%|████▋     | 105/222 [00:05<00:06, 19.26it/s]"
     ]
    },
    {
     "name": "stdout",
     "output_type": "stream",
     "text": [
      "processing\n",
      "processing\n",
      "processing\n",
      "processing\n",
      "processing\n"
     ]
    },
    {
     "name": "stderr",
     "output_type": "stream",
     "text": [
      " 50%|█████     | 111/222 [00:05<00:04, 22.29it/s]"
     ]
    },
    {
     "name": "stdout",
     "output_type": "stream",
     "text": [
      "processing\n",
      "processing\n",
      "processing\n",
      "processing\n",
      "processing\n",
      "processing\n"
     ]
    },
    {
     "name": "stderr",
     "output_type": "stream",
     "text": [
      "\r",
      " 51%|█████▏    | 114/222 [00:05<00:04, 24.05it/s]"
     ]
    },
    {
     "name": "stdout",
     "output_type": "stream",
     "text": [
      "processing\n",
      "processing\n",
      "processing\n",
      "processing\n"
     ]
    },
    {
     "name": "stderr",
     "output_type": "stream",
     "text": [
      "\r",
      " 53%|█████▎    | 117/222 [00:06<00:05, 19.14it/s]"
     ]
    },
    {
     "name": "stdout",
     "output_type": "stream",
     "text": [
      "processing\n",
      "processing\n",
      "processing\n"
     ]
    },
    {
     "name": "stderr",
     "output_type": "stream",
     "text": [
      "\r",
      " 54%|█████▍    | 120/222 [00:06<00:05, 17.18it/s]"
     ]
    },
    {
     "name": "stdout",
     "output_type": "stream",
     "text": [
      "processing\n",
      "processing\n"
     ]
    },
    {
     "name": "stderr",
     "output_type": "stream",
     "text": [
      " 56%|█████▌    | 124/222 [00:06<00:07, 13.55it/s]"
     ]
    },
    {
     "name": "stdout",
     "output_type": "stream",
     "text": [
      "processing\n",
      "processing\n",
      "processing\n",
      "processing\n"
     ]
    },
    {
     "name": "stderr",
     "output_type": "stream",
     "text": [
      " 58%|█████▊    | 129/222 [00:06<00:05, 17.33it/s]"
     ]
    },
    {
     "name": "stdout",
     "output_type": "stream",
     "text": [
      "processing\n",
      "processing\n",
      "processing\n",
      "processing\n",
      "processing\n",
      "processing\n"
     ]
    },
    {
     "name": "stderr",
     "output_type": "stream",
     "text": [
      " 61%|██████▏   | 136/222 [00:07<00:03, 21.54it/s]"
     ]
    },
    {
     "name": "stdout",
     "output_type": "stream",
     "text": [
      "processing\n",
      "processing\n",
      "processing\n",
      "processing\n",
      "processing\n",
      "processing\n"
     ]
    },
    {
     "name": "stderr",
     "output_type": "stream",
     "text": [
      " 64%|██████▍   | 142/222 [00:07<00:03, 22.44it/s]"
     ]
    },
    {
     "name": "stdout",
     "output_type": "stream",
     "text": [
      "processing\n",
      "processing\n",
      "processing\n",
      "processing\n",
      "processing\n"
     ]
    },
    {
     "name": "stderr",
     "output_type": "stream",
     "text": [
      "\r",
      " 65%|██████▌   | 145/222 [00:07<00:03, 23.35it/s]"
     ]
    },
    {
     "name": "stdout",
     "output_type": "stream",
     "text": [
      "processing\n",
      "processing\n",
      "processing\n",
      "processing\n",
      "processing\n"
     ]
    },
    {
     "name": "stderr",
     "output_type": "stream",
     "text": [
      " 68%|██████▊   | 151/222 [00:07<00:03, 21.97it/s]"
     ]
    },
    {
     "name": "stdout",
     "output_type": "stream",
     "text": [
      "processing\n",
      "processing\n",
      "processing\n",
      "processing\n",
      "processing\n"
     ]
    },
    {
     "name": "stderr",
     "output_type": "stream",
     "text": [
      " 71%|███████   | 157/222 [00:08<00:02, 21.67it/s]"
     ]
    },
    {
     "name": "stdout",
     "output_type": "stream",
     "text": [
      "processing\n",
      "processing\n",
      "processing\n",
      "processing\n",
      "processing\n",
      "processing\n",
      "processing\n"
     ]
    },
    {
     "name": "stderr",
     "output_type": "stream",
     "text": [
      " 73%|███████▎  | 163/222 [00:08<00:03, 18.09it/s]"
     ]
    },
    {
     "name": "stdout",
     "output_type": "stream",
     "text": [
      "processing\n",
      "processing\n",
      "processing\n",
      "processing\n",
      "processing\n"
     ]
    },
    {
     "name": "stderr",
     "output_type": "stream",
     "text": [
      "\r",
      " 75%|███████▍  | 166/222 [00:08<00:03, 17.28it/s]"
     ]
    },
    {
     "name": "stdout",
     "output_type": "stream",
     "text": [
      "processing\n",
      "processing\n",
      "processing\n"
     ]
    },
    {
     "name": "stderr",
     "output_type": "stream",
     "text": [
      " 77%|███████▋  | 171/222 [00:08<00:02, 19.43it/s]"
     ]
    },
    {
     "name": "stdout",
     "output_type": "stream",
     "text": [
      "processing\n",
      "processing\n",
      "processing\n",
      "processing\n",
      "processing\n",
      "processing\n"
     ]
    },
    {
     "name": "stderr",
     "output_type": "stream",
     "text": [
      " 80%|███████▉  | 177/222 [00:09<00:01, 22.92it/s]"
     ]
    },
    {
     "name": "stdout",
     "output_type": "stream",
     "text": [
      "processing\n",
      "processing\n",
      "processing\n",
      "processing\n",
      "processing\n"
     ]
    },
    {
     "name": "stderr",
     "output_type": "stream",
     "text": [
      " 82%|████████▏ | 183/222 [00:09<00:01, 21.57it/s]"
     ]
    },
    {
     "name": "stdout",
     "output_type": "stream",
     "text": [
      "processing\n",
      "processing\n",
      "processing\n",
      "processing\n",
      "processing\n"
     ]
    },
    {
     "name": "stderr",
     "output_type": "stream",
     "text": [
      "\r",
      " 84%|████████▍ | 186/222 [00:09<00:01, 18.72it/s]"
     ]
    },
    {
     "name": "stdout",
     "output_type": "stream",
     "text": [
      "processing\n",
      "processing\n",
      "processing\n"
     ]
    },
    {
     "name": "stderr",
     "output_type": "stream",
     "text": [
      "\r",
      " 85%|████████▌ | 189/222 [00:09<00:01, 18.06it/s]"
     ]
    },
    {
     "name": "stdout",
     "output_type": "stream",
     "text": [
      "processing\n",
      "processing\n",
      "processing\n",
      "processing\n"
     ]
    },
    {
     "name": "stderr",
     "output_type": "stream",
     "text": [
      " 87%|████████▋ | 194/222 [00:10<00:01, 18.47it/s]"
     ]
    },
    {
     "name": "stdout",
     "output_type": "stream",
     "text": [
      "processing\n",
      "processing\n",
      "processing\n",
      "processing\n",
      "processing\n"
     ]
    },
    {
     "name": "stderr",
     "output_type": "stream",
     "text": [
      " 89%|████████▉ | 198/222 [00:10<00:01, 17.62it/s]"
     ]
    },
    {
     "name": "stdout",
     "output_type": "stream",
     "text": [
      "processing\n",
      "processing\n",
      "processing\n",
      "processing\n"
     ]
    },
    {
     "name": "stderr",
     "output_type": "stream",
     "text": [
      " 91%|█████████▏| 203/222 [00:10<00:00, 19.50it/s]"
     ]
    },
    {
     "name": "stdout",
     "output_type": "stream",
     "text": [
      "processing\n",
      "processing\n",
      "processing\n",
      "processing\n",
      "processing\n"
     ]
    },
    {
     "name": "stderr",
     "output_type": "stream",
     "text": [
      " 94%|█████████▍| 209/222 [00:10<00:00, 22.59it/s]"
     ]
    },
    {
     "name": "stdout",
     "output_type": "stream",
     "text": [
      "processing\n",
      "processing\n",
      "processing\n",
      "processing\n",
      "processing\n",
      "processing\n"
     ]
    },
    {
     "name": "stderr",
     "output_type": "stream",
     "text": [
      "\r",
      " 95%|█████████▌| 212/222 [00:10<00:00, 21.06it/s]"
     ]
    },
    {
     "name": "stdout",
     "output_type": "stream",
     "text": [
      "processing\n",
      "processing\n",
      "processing\n",
      "processing\n"
     ]
    },
    {
     "name": "stderr",
     "output_type": "stream",
     "text": [
      " 98%|█████████▊| 218/222 [00:11<00:00, 20.56it/s]"
     ]
    },
    {
     "name": "stdout",
     "output_type": "stream",
     "text": [
      "processing\n",
      "processing\n",
      "processing\n",
      "processing\n"
     ]
    },
    {
     "name": "stderr",
     "output_type": "stream",
     "text": [
      "100%|█████████▉| 221/222 [00:11<00:00, 20.60it/s]\n"
     ]
    },
    {
     "name": "stdout",
     "output_type": "stream",
     "text": [
      "processing\n",
      "processing\n",
      "[MoviePy] Done.\n",
      "[MoviePy] >>>> Video ready: white.mp4 \n",
      "\n",
      "CPU times: user 1min 3s, sys: 5.01 s, total: 1min 8s\n",
      "Wall time: 11.9 s\n"
     ]
    }
   ],
   "source": [
    "white_output = 'white.mp4'\n",
    "clip1 = VideoFileClip(\"solidWhiteRight.mp4\")\n",
    "white_clip = clip1.fl_image(process_image) #NOTE: this function expects color images!!\n",
    "%time white_clip.write_videofile(white_output, audio=False)\n",
    "\n"
   ]
  },
  {
   "cell_type": "markdown",
   "metadata": {},
   "source": [
    "Play the video inline, or if you prefer find the video in your filesystem (should be in the same directory) and play it in your video player of choice."
   ]
  },
  {
   "cell_type": "code",
   "execution_count": null,
   "metadata": {
    "collapsed": false,
    "scrolled": true
   },
   "outputs": [],
   "source": [
    "HTML(\"\"\"\n",
    "<video width=\"960\" height=\"540\" controls>\n",
    "  <source src=\"{0}\">\n",
    "</video>\n",
    "\"\"\".format(white_output))"
   ]
  },
  {
   "cell_type": "markdown",
   "metadata": {},
   "source": [
    "**At this point, if you were successful you probably have the Hough line segments drawn onto the road, but what about identifying the full extent of the lane and marking it clearly as in the example video (P1_example.mp4)?  Think about defining a line to run the full length of the visible lane based on the line segments you identified with the Hough Transform.  Modify your draw_lines function accordingly and try re-running your pipeline.**"
   ]
  },
  {
   "cell_type": "markdown",
   "metadata": {},
   "source": [
    "Now for the one with the solid yellow lane on the left. This one's more tricky!"
   ]
  },
  {
   "cell_type": "code",
   "execution_count": null,
   "metadata": {
    "collapsed": false
   },
   "outputs": [],
   "source": [
    "yellow_output = 'yellow.mp4'\n",
    "clip2 = VideoFileClip('solidYellowLeft.mp4')\n",
    "yellow_clip = clip2.fl_image(process_image)\n",
    "%time yellow_clip.write_videofile(yellow_output, audio=False)"
   ]
  },
  {
   "cell_type": "code",
   "execution_count": null,
   "metadata": {
    "collapsed": false
   },
   "outputs": [],
   "source": [
    "HTML(\"\"\"\n",
    "<video width=\"960\" height=\"540\" controls>\n",
    "  <source src=\"{0}\">\n",
    "</video>\n",
    "\"\"\".format(yellow_output))"
   ]
  },
  {
   "cell_type": "markdown",
   "metadata": {},
   "source": [
    "## Reflections\n",
    "\n",
    "Congratulations on finding the lane lines!  As the final step in this project, we would like you to share your thoughts on your lane finding pipeline... specifically, how could you imagine making your algorithm better / more robust?  Where will your current algorithm be likely to fail?\n",
    "\n",
    "Please add your thoughts below,  and if you're up for making your pipeline more robust, be sure to scroll down and check out the optional challenge video below!\n"
   ]
  },
  {
   "cell_type": "markdown",
   "metadata": {},
   "source": [
    "## Submission\n",
    "\n",
    "If you're satisfied with your video outputs it's time to submit!  Submit this ipython notebook for review.\n"
   ]
  },
  {
   "cell_type": "markdown",
   "metadata": {
    "collapsed": true
   },
   "source": [
    "## Optional Challenge\n",
    "\n",
    "Try your lane finding pipeline on the video below.  Does it still work?  Can you figure out a way to make it more robust?  If you're up for the challenge, modify your pipeline so it works with this video and submit it along with the rest of your project!"
   ]
  },
  {
   "cell_type": "code",
   "execution_count": null,
   "metadata": {
    "collapsed": false
   },
   "outputs": [],
   "source": [
    "challenge_output = 'extra.mp4'\n",
    "clip2 = VideoFileClip('challenge.mp4')\n",
    "challenge_clip = clip2.fl_image(process_image)\n",
    "%time challenge_clip.write_videofile(challenge_output, audio=False)"
   ]
  },
  {
   "cell_type": "code",
   "execution_count": null,
   "metadata": {
    "collapsed": false
   },
   "outputs": [],
   "source": [
    "HTML(\"\"\"\n",
    "<video width=\"960\" height=\"540\" controls>\n",
    "  <source src=\"{0}\">\n",
    "</video>\n",
    "\"\"\".format(challenge_output))"
   ]
  },
  {
   "cell_type": "code",
   "execution_count": null,
   "metadata": {
    "collapsed": true
   },
   "outputs": [],
   "source": []
  },
  {
   "cell_type": "code",
   "execution_count": null,
   "metadata": {
    "collapsed": true
   },
   "outputs": [],
   "source": []
  },
  {
   "cell_type": "code",
   "execution_count": null,
   "metadata": {
    "collapsed": true
   },
   "outputs": [],
   "source": []
  }
 ],
 "metadata": {
  "anaconda-cloud": {},
  "kernelspec": {
   "display_name": "Python [conda root]",
   "language": "python",
   "name": "conda-root-py"
  },
  "language_info": {
   "codemirror_mode": {
    "name": "ipython",
    "version": 3
   },
   "file_extension": ".py",
   "mimetype": "text/x-python",
   "name": "python",
   "nbconvert_exporter": "python",
   "pygments_lexer": "ipython3",
   "version": "3.5.2"
  }
 },
 "nbformat": 4,
 "nbformat_minor": 0
}
